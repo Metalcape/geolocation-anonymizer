{
 "cells": [
  {
   "cell_type": "code",
   "execution_count": 1,
   "metadata": {},
   "outputs": [],
   "source": [
    "import matplotlib.pyplot as plt\n",
    "import seaborn as sns\n",
    "import pandas as pd\n",
    "import numpy as np\n",
    "import json"
   ]
  },
  {
   "cell_type": "code",
   "execution_count": 2,
   "metadata": {},
   "outputs": [],
   "source": [
    "with open(\"cpu_single_threaded.json\") as f:\n",
    "    cpu_st = json.load(f)\n",
    "with open(\"cpu_multi_threaded.json\") as f:\n",
    "    cpu_mt = json.load(f)\n",
    "with open(\"gpu_single_threaded.json\") as f:\n",
    "    gpu_st = json.load(f)\n",
    "with open(\"gpu_multi_threaded.json\") as f:\n",
    "    gpu_mt = json.load(f)"
   ]
  },
  {
   "cell_type": "code",
   "execution_count": null,
   "metadata": {},
   "outputs": [],
   "source": [
    "iterations = list()\n",
    "iterations.append(pd.DataFrame(data=[b for b in cpu_st[\"benchmarks\"] if b[\"run_type\"] == \"iteration\"]))\n",
    "iterations.append(pd.DataFrame(data=[b for b in cpu_mt[\"benchmarks\"] if b[\"run_type\"] == \"iteration\"]))\n",
    "iterations.append(pd.DataFrame(data=[b for b in gpu_st[\"benchmarks\"] if b[\"run_type\"] == \"iteration\"]))\n",
    "iterations.append(pd.DataFrame(data=[b for b in gpu_mt[\"benchmarks\"] if b[\"run_type\"] == \"iteration\"]))\n",
    "dataset = pd.concat(iterations)\n",
    "dataset.reset_index(drop=True, inplace=True)\n",
    "dataset"
   ]
  },
  {
   "cell_type": "code",
   "execution_count": null,
   "metadata": {},
   "outputs": [],
   "source": [
    "aggregates = list()\n",
    "aggregates.append(pd.DataFrame(data=[b for b in cpu_st[\"benchmarks\"] if b[\"run_type\"] == \"aggregate\"]))\n",
    "aggregates.append(pd.DataFrame(data=[b for b in cpu_mt[\"benchmarks\"] if b[\"run_type\"] == \"aggregate\"]))\n",
    "aggregates.append(pd.DataFrame(data=[b for b in gpu_st[\"benchmarks\"] if b[\"run_type\"] == \"aggregate\"]))\n",
    "aggregates.append(pd.DataFrame(data=[b for b in gpu_mt[\"benchmarks\"] if b[\"run_type\"] == \"aggregate\"]))\n",
    "dataset_aggr = pd.concat(aggregates)\n",
    "dataset_aggr.reset_index(drop=True, inplace=True)\n",
    "dataset_aggr\n"
   ]
  },
  {
   "cell_type": "code",
   "execution_count": null,
   "metadata": {},
   "outputs": [],
   "source": [
    "benchmarks = dataset\n",
    "benchmarks['k'] = benchmarks['name'].str.split('/').str[2]\n",
    "benchmarks['device'] = benchmarks['name'].str.split('/').str[1].str.split('_').str[0]\n",
    "benchmarks['threading'] = benchmarks['name'].str.split('/').str[1].str.split('_').str[1]\n",
    "\n",
    "time_filter = benchmarks['time_unit'] == 'ms'\n",
    "benchmarks.loc[time_filter, ['real_time']] /= 1000\n",
    "benchmarks.loc[time_filter, ['cpu_time']] /= 1000\n",
    "benchmarks.loc[time_filter, ['time_unit']] = 's'\n",
    "benchmarks = benchmarks[['k', 'device', 'threading', 'repetitions', 'repetition_index', 'iterations', 'real_time', 'cpu_time', 'time_unit']]\n",
    "benchmarks"
   ]
  },
  {
   "cell_type": "code",
   "execution_count": null,
   "metadata": {},
   "outputs": [],
   "source": [
    "metrics = dataset_aggr\n",
    "metrics['k'] = metrics['per_family_instance_index'] + 10\n",
    "metrics['device'] = metrics['name'].str.split('/').str[1].str.split('_').str[0]\n",
    "metrics['threading'] = metrics['name'].str.split('/').str[1].str.split('_').str[1]\n",
    "\n",
    "time_filter_m = (metrics['time_unit'] == \"ms\") & (metrics['aggregate_unit'] == \"time\")\n",
    "metrics.loc[time_filter_m, 'real_time'] /= 1000\n",
    "metrics.loc[time_filter_m, 'cpu_time'] /= 1000\n",
    "metrics.loc[metrics['time_unit'] == \"ms\", 'time_unit'] = 's'\n",
    "metrics = metrics[['k', 'device', 'threading', 'repetitions', 'aggregate_name', 'aggregate_unit', 'iterations', 'real_time', 'cpu_time', 'time_unit']]\n",
    "metrics"
   ]
  },
  {
   "cell_type": "code",
   "execution_count": null,
   "metadata": {},
   "outputs": [],
   "source": [
    "benchmarks['type'] = benchmarks['device'] + '-' + benchmarks['threading']\n",
    "metrics['type'] = metrics['device'] + '-' + metrics['threading']\n",
    "benchmarks = benchmarks.query('type!=\"gpu-multi\"')\n",
    "metrics = metrics.query('type!=\"gpu-multi\"')"
   ]
  },
  {
   "cell_type": "code",
   "execution_count": null,
   "metadata": {},
   "outputs": [],
   "source": [
    "plt.figure(figsize=(10, 6))\n",
    "sns.scatterplot(data=benchmarks, x='k', y='real_time', hue='type', style='type', alpha=0.8)\n",
    "#sns.lineplot(data=benchmarks, x='k', y='real_time', hue='type', style='type', err_style=None)\n",
    "plt.xlabel('k')\n",
    "plt.ylabel('real time (s)')\n",
    "plt.yscale('log')\n",
    "plt.title('Comparison time by device and threading')\n",
    "plt.legend(title='Device-Threading', bbox_to_anchor=(1.01, 1), loc='upper left')\n",
    "plt.tight_layout()\n",
    "plt.show()"
   ]
  },
  {
   "cell_type": "code",
   "execution_count": null,
   "metadata": {},
   "outputs": [],
   "source": [
    "plt.figure(figsize=(10, 6))\n",
    "sns.lineplot(data=benchmarks, x='k', y='real_time', hue='type', style='type', errorbar=('ci', 99), err_style='bars')\n",
    "plt.xlabel('k')\n",
    "plt.ylabel('real time (s)')\n",
    "plt.yscale('log')\n",
    "plt.title('Comparison time by device and threading (average / standard deviation)')\n",
    "plt.legend(title='Device-Threading', bbox_to_anchor=(1.01, 1), loc='upper left')\n",
    "plt.tight_layout()\n",
    "plt.show()"
   ]
  },
  {
   "cell_type": "code",
   "execution_count": null,
   "metadata": {},
   "outputs": [],
   "source": [
    "df_single = benchmarks.query('device==\"cpu\" & threading==\"single\"')\n",
    "df_single_gpu = benchmarks.query('device==\"gpu\" & threading==\"single\"')\n",
    "df_multi = benchmarks.query('device==\"cpu\" & threading==\"multi\"')\n",
    "df_multi_gpu = benchmarks.query('device==\"gpu\" & threading==\"multi\"')\n",
    "\n",
    "#sns.scatterplot(data=benchmarks, x='k', y='real_time', hue='type', alpha=0.7, legend=None)\n",
    "#sns.lineplot(data=benchmarks.query('device==\"cpu\"'), x='k', y='real_time', hue='type', style='type', err_style=None, alpha=0.5)\n",
    "plt.figure(figsize=(10, 6))\n",
    "sns.regplot(x=pd.to_numeric(df_single['k']), y=pd.to_numeric(df_single['real_time']), label='cpu-single', marker='x', ci=99)\n",
    "sns.regplot(x=pd.to_numeric(df_single_gpu['k']), y=pd.to_numeric(df_single_gpu['real_time']), label='gpu-single', marker='o', line_kws={\"ls\":\"--\"}, ci=99)\n",
    "sns.regplot(x=pd.to_numeric(df_multi['k']), y=pd.to_numeric(df_multi['real_time']), label='cpu-multi', line_kws={\"ls\":\"-.\"}, marker='d', ci=99)\n",
    "#sns.regplot(x=pd.to_numeric(df_multi_gpu['k']), y=pd.to_numeric(df_multi_gpu['real_time']), label='gpu-multi', line_kws={\"ls\":\":\"}, marker='v', ci=99)\n",
    "plt.xlabel('k')\n",
    "plt.ylabel('real time (s)')\n",
    "plt.yscale('log')\n",
    "plt.title('Comparison time by device and threading (linear regression)')\n",
    "plt.legend(title='Device-Threading', bbox_to_anchor=(1.01, 1), loc='upper left')\n",
    "plt.tight_layout()\n",
    "plt.show()"
   ]
  },
  {
   "cell_type": "code",
   "execution_count": null,
   "metadata": {},
   "outputs": [],
   "source": [
    "plt.figure(figsize=(10, 6))\n",
    "sns.regplot(x=pd.to_numeric(df_single['k']), y=pd.to_numeric(df_single['real_time']), label='cpu-single', marker='x', ci=99)\n",
    "sns.regplot(x=pd.to_numeric(df_single_gpu['k']), y=pd.to_numeric(df_single_gpu['real_time']), label='gpu-single', marker='o', line_kws={\"ls\":\"--\"}, ci=99)\n",
    "sns.regplot(x=pd.to_numeric(df_multi['k']), y=pd.to_numeric(df_multi['real_time']), label='cpu-multi', line_kws={\"ls\":\"-.\"}, marker='d', ci=99)\n",
    "#sns.regplot(x=pd.to_numeric(df_multi_gpu['k']), y=pd.to_numeric(df_multi_gpu['real_time']), label='gpu-multi', line_kws={\"ls\":\":\"}, marker='v', ci=99)\n",
    "plt.xlabel('k')\n",
    "plt.ylabel('real time (s)')\n",
    "plt.title('Comparison time by device and threading (linear regression)')\n",
    "plt.legend(title='Device-Threading', bbox_to_anchor=(1.01, 1), loc='upper left')\n",
    "plt.tight_layout()\n",
    "plt.show()"
   ]
  },
  {
   "cell_type": "code",
   "execution_count": null,
   "metadata": {},
   "outputs": [],
   "source": [
    "df_mean = metrics.query('aggregate_name==\"mean\"')\n",
    "df_median = metrics.query('aggregate_name==\"median\"')\n",
    "df_stddev = metrics.query('aggregate_name==\"stddev\"')\n",
    "df_cv = metrics.query('aggregate_name==\"cv\"')\n",
    "\n",
    "fig, axes = plt.subplots(2, 2, figsize=(14, 10))\n",
    "sns.scatterplot(data=df_mean, x='k', y='real_time', hue='type', style='type', ax=axes[0, 0], legend=None)\n",
    "sns.lineplot(data=df_mean, x='k', y='real_time', hue='type', style='type', ax=axes[0, 0], legend=None, alpha=0.3)\n",
    "axes[0, 0].set_xlabel('k')\n",
    "axes[0, 0].set_ylabel('time (s)')\n",
    "axes[0, 0].set_yscale('log')\n",
    "axes[0, 0].set_title('Average execution time')\n",
    "\n",
    "sns.scatterplot(data=df_median, x='k', y='real_time', hue='type', style='type', ax=axes[0, 1], legend=None)\n",
    "sns.lineplot(data=df_median, x='k', y='real_time', hue='type', style='type', ax=axes[0, 1], legend=None, alpha=0.3)\n",
    "axes[0, 1].set_xlabel('k')\n",
    "axes[0, 1].set_ylabel('time (s)')\n",
    "axes[0, 1].set_yscale('log')\n",
    "axes[0, 1].set_title('Median execution time')\n",
    "\n",
    "sns.scatterplot(data=df_stddev, x='k', y='real_time', hue='type', style='type', ax=axes[1, 0], legend=None)\n",
    "sns.lineplot(data=df_stddev, x='k', y='real_time', hue='type', style='type', ax=axes[1, 0], legend=None, alpha=0.5)\n",
    "axes[1, 0].set_xlabel('k')\n",
    "axes[1, 0].set_ylabel('time (s)')\n",
    "axes[1, 0].set_yscale('log')\n",
    "axes[1, 0].set_title('Standard deviation')\n",
    "\n",
    "sns.scatterplot(data=df_cv, x='k', y=df_cv['real_time'] * 100, hue='type', style='type', ax=axes[1, 1])\n",
    "sns.lineplot(data=df_cv, x='k', y=df_cv['real_time'] * 100, hue='type', style='type', ax=axes[1, 1], alpha=0.3)\n",
    "axes[1, 1].set_xlabel('k')\n",
    "axes[1, 1].set_ylabel('%')\n",
    "#axes[1, 1].set_ylim(0, 10)\n",
    "axes[1, 1].set_title('Coefficient of variation')\n",
    "\n",
    "\n",
    "#plt.legend(title='Device-Threading', bbox_to_anchor=(1.01, 1), loc='upper left')\n",
    "plt.tight_layout()"
   ]
  },
  {
   "cell_type": "code",
   "execution_count": null,
   "metadata": {},
   "outputs": [],
   "source": [
    "with open('gpu_range.json') as f:\n",
    "    gpu_range = json.load(f)\n",
    "\n",
    "iterations = list()\n",
    "iterations.append(pd.DataFrame(data=[b for b in gpu_range[\"benchmarks\"] if b[\"run_type\"] == \"iteration\"]))\n",
    "dataset = pd.concat(iterations)\n",
    "dataset.reset_index(drop=True, inplace=True)\n",
    "\n",
    "df = dataset\n",
    "df['k'] = df['name'].str.split('/').str[2]\n",
    "df['device'] = df['name'].str.split('/').str[1].str.split('_').str[0]\n",
    "df['threading'] = df['name'].str.split('/').str[1].str.split('_').str[1]\n",
    "\n",
    "time_filter = df['time_unit'] == 'ms'\n",
    "df.loc[time_filter, ['real_time']] /= 1000\n",
    "df.loc[time_filter, ['cpu_time']] /= 1000\n",
    "df.loc[time_filter, ['time_unit']] = 's'\n",
    "df = df[['k', 'device', 'threading', 'repetitions', 'repetition_index', 'iterations', 'real_time', 'cpu_time', 'time_unit']]\n",
    "df['k'] = pd.to_numeric(df['k'])\n",
    "df2 = benchmarks.drop(['type'], axis=1)\n",
    "df_gpu = pd.concat([df2.query('device==\"gpu\" & threading==\"single\"'), df.query('k > 20')]).reset_index()\n",
    "df_gpu"
   ]
  },
  {
   "cell_type": "code",
   "execution_count": null,
   "metadata": {},
   "outputs": [],
   "source": [
    "plt.figure(figsize=(10, 6))\n",
    "sns.regplot(x=pd.to_numeric(df_gpu['k']), y=pd.to_numeric(df_gpu['real_time']), label='gpu-single', ci=99)\n",
    "plt.xlabel('k')\n",
    "plt.ylabel('real time (s)')\n",
    "plt.title('GPU comparison time (linear regression)')\n",
    "plt.tight_layout()\n",
    "plt.show()"
   ]
  },
  {
   "cell_type": "code",
   "execution_count": null,
   "metadata": {},
   "outputs": [],
   "source": [
    "plt.figure(figsize=(10, 6))\n",
    "sns.regplot(x=pd.to_numeric(df_gpu['k']), y=pd.to_numeric(df_gpu['real_time']), label='gpu-single', x_estimator=np.mean, order=1, ci=99, marker='.')\n",
    "plt.xlabel('k')\n",
    "plt.ylabel('real time (s)')\n",
    "plt.title('GPU comparison time (linear regression, CI 99%)')\n",
    "plt.tight_layout()\n",
    "plt.show()"
   ]
  },
  {
   "cell_type": "code",
   "execution_count": null,
   "metadata": {},
   "outputs": [],
   "source": [
    "plt.figure(figsize=(10, 6))\n",
    "sns.lineplot(x=pd.to_numeric(df_gpu['k']), y=pd.to_numeric(df_gpu['real_time']), errorbar=('ci', 99), err_style='bars')\n",
    "#sns.scatterplot(x=pd.to_numeric(df_gpu['k']), y=pd.to_numeric(df_gpu['real_time']), alpha=0.8)\n",
    "plt.xlabel('k')\n",
    "plt.ylabel('real time (s)')\n",
    "plt.title('GPU comparison time (average, CI 99%)')\n",
    "plt.tight_layout()\n",
    "plt.show()"
   ]
  },
  {
   "cell_type": "code",
   "execution_count": null,
   "metadata": {},
   "outputs": [],
   "source": []
  }
 ],
 "metadata": {
  "kernelspec": {
   "display_name": "venv",
   "language": "python",
   "name": "python3"
  },
  "language_info": {
   "codemirror_mode": {
    "name": "ipython",
    "version": 3
   },
   "file_extension": ".py",
   "mimetype": "text/x-python",
   "name": "python",
   "nbconvert_exporter": "python",
   "pygments_lexer": "ipython3",
   "version": "3.10.12"
  }
 },
 "nbformat": 4,
 "nbformat_minor": 2
}
