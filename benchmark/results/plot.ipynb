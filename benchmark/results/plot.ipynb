{
 "cells": [
  {
   "cell_type": "code",
   "execution_count": 31,
   "metadata": {},
   "outputs": [],
   "source": [
    "import matplotlib.pyplot as plt\n",
    "import seaborn as sns\n",
    "import pandas as pd\n",
    "import numpy as np"
   ]
  },
  {
   "cell_type": "code",
   "execution_count": 32,
   "metadata": {},
   "outputs": [],
   "source": [
    "benchmarks = pd.read_csv('benchmarks.csv')\n",
    "metrics = pd.read_csv('metrics.csv')"
   ]
  },
  {
   "cell_type": "code",
   "execution_count": null,
   "metadata": {},
   "outputs": [],
   "source": [
    "plt.figure(figsize=(10, 6))\n",
    "sns.scatterplot(data=benchmarks.query(\"type=='range'\"), x='k', y='real_time', hue='tag', style='tag', alpha=0.8)\n",
    "#sns.lineplot(data=benchmarks, x='k', y='real_time', hue='type', style='type', err_style=None)\n",
    "plt.xlabel('k')\n",
    "plt.ylabel('real time (s)')\n",
    "plt.yscale('log')\n",
    "plt.title('Comparison time by device and threading')\n",
    "plt.legend(title='Device-Threading', bbox_to_anchor=(1.01, 1), loc='upper left')\n",
    "plt.tight_layout()\n",
    "plt.grid()\n",
    "plt.show()"
   ]
  },
  {
   "cell_type": "code",
   "execution_count": null,
   "metadata": {},
   "outputs": [],
   "source": [
    "plt.figure(figsize=(10, 6))\n",
    "sns.scatterplot(data=benchmarks.query(\"type=='range' & k <= 20\"), x='k', y='real_time', hue='tag', style='tag', alpha=0.8)\n",
    "#sns.lineplot(data=benchmarks, x='k', y='real_time', hue='type', style='type', err_style=None)\n",
    "plt.xlabel('k')\n",
    "plt.ylabel('real time (s)')\n",
    "plt.yscale('log')\n",
    "plt.title('Comparison time by device and threading')\n",
    "plt.legend(title='Device-Threading', bbox_to_anchor=(1.01, 1), loc='upper left')\n",
    "plt.tight_layout()\n",
    "plt.grid()\n",
    "plt.show()"
   ]
  },
  {
   "cell_type": "code",
   "execution_count": null,
   "metadata": {},
   "outputs": [],
   "source": [
    "plt.figure(figsize=(10, 6))\n",
    "sns.scatterplot(data=benchmarks.query(\"type=='range'\"), x='k', y='real_time', hue='tag', style='tag', alpha=0.8)\n",
    "#sns.lineplot(data=benchmarks, x='k', y='real_time', hue='type', style='type', err_style=None)\n",
    "plt.xlabel('k')\n",
    "plt.ylabel('real time (s)')\n",
    "plt.title('Comparison time by device and threading')\n",
    "plt.legend(title='Device-Threading', bbox_to_anchor=(1.01, 1), loc='upper left')\n",
    "plt.tight_layout()\n",
    "plt.grid()\n",
    "plt.show()"
   ]
  },
  {
   "cell_type": "code",
   "execution_count": null,
   "metadata": {},
   "outputs": [],
   "source": [
    "plt.figure(figsize=(10, 6))\n",
    "sns.scatterplot(data=benchmarks.query(\"type=='range' & k <= 20\"), x='k', y='real_time', hue='tag', style='tag', alpha=0.8)\n",
    "#sns.lineplot(data=benchmarks, x='k', y='real_time', hue='type', style='type', err_style=None)\n",
    "plt.xlabel('k')\n",
    "plt.ylabel('real time (s)')\n",
    "plt.title('Comparison time by device and threading')\n",
    "plt.legend(title='Device-Threading', bbox_to_anchor=(1.01, 1), loc='upper left')\n",
    "plt.tight_layout()\n",
    "plt.grid()\n",
    "plt.show()"
   ]
  },
  {
   "cell_type": "code",
   "execution_count": null,
   "metadata": {},
   "outputs": [],
   "source": [
    "plt.figure(figsize=(10, 6))\n",
    "sns.lineplot(data=benchmarks.query(\"type=='range' & k <= 20\"), x='k', y='real_time', hue='tag', style='tag', errorbar=('ci', 99), err_style='bars')\n",
    "plt.xlabel('k')\n",
    "plt.ylabel('real time (s)')\n",
    "plt.yscale('log')\n",
    "plt.title('Comparison time by device and threading (CI 99%)')\n",
    "plt.legend(title='Device-Threading', bbox_to_anchor=(1.01, 1), loc='upper left')\n",
    "plt.tight_layout()\n",
    "plt.grid()\n",
    "plt.show()"
   ]
  },
  {
   "cell_type": "code",
   "execution_count": null,
   "metadata": {},
   "outputs": [],
   "source": [
    "# hardware speedup\n",
    "cpu_single_range = metrics.query(\"aggregate_name=='mean' & tag=='cpu-single'\")[['k', 'real_time']].reset_index(drop=True)\n",
    "cpu_multi_range = metrics.query(\"aggregate_name=='mean' & tag=='cpu-multi'\")[['k', 'real_time']].reset_index(drop=True)\n",
    "gpu_single_range = metrics.query(\"aggregate_name=='mean' & tag=='gpu'\")[['k', 'real_time']].reset_index(drop=True)\n",
    "cpu_poly = metrics.query(\"aggregate_name=='mean' & type=='poly' & device=='cpu'\")[['real_time']].reset_index(drop=True)\n",
    "gpu_poly = metrics.query(\"aggregate_name=='mean' & type=='poly' & device=='gpu'\")[['real_time']].reset_index(drop=True)\n",
    "\n",
    "multi_speedup = pd.DataFrame({'speedup': cpu_single_range['real_time'] / cpu_multi_range['real_time'],\n",
    "                              'device': 'multithreading',\n",
    "                              'k': cpu_single_range['k']})\n",
    "gpu_speedup = pd.DataFrame({'speedup': cpu_single_range['real_time'] / gpu_single_range['real_time'],\n",
    "                              'device': 'gpu',\n",
    "                              'k': cpu_single_range['k']})\n",
    "\n",
    "gpu_poly_speedup = (cpu_poly['real_time'] / gpu_poly['real_time']).mean()\n",
    "gpu_poly_speedup\n"
   ]
  },
  {
   "cell_type": "code",
   "execution_count": null,
   "metadata": {},
   "outputs": [],
   "source": [
    "gpu_speedup"
   ]
  },
  {
   "cell_type": "code",
   "execution_count": null,
   "metadata": {},
   "outputs": [],
   "source": [
    "multi_speedup"
   ]
  },
  {
   "cell_type": "code",
   "execution_count": null,
   "metadata": {},
   "outputs": [],
   "source": [
    "gpu_to_multi_speedup = pd.DataFrame({'speedup': cpu_multi_range['real_time'] / gpu_single_range['real_time'],\n",
    "                              'device': 'gpu',\n",
    "                              'k': cpu_multi_range['k']})\n",
    "gpu_to_multi_speedup"
   ]
  },
  {
   "cell_type": "code",
   "execution_count": null,
   "metadata": {},
   "outputs": [],
   "source": [
    "plt.figure(figsize=(10, 6))\n",
    "sns.lineplot(data=benchmarks.query(\"type=='range' & k <= 20\"), x='k', y='real_time', hue='tag', style='tag', errorbar=('ci', 99), err_style='bars')\n",
    "plt.xlabel('k')\n",
    "plt.ylabel('real time (s)')\n",
    "plt.title('Comparison time by device and threading (CI 99%)')\n",
    "plt.legend(title='Device-Threading', bbox_to_anchor=(1.01, 1), loc='upper left')\n",
    "plt.tight_layout()\n",
    "plt.grid()\n",
    "#plt.text(x=18, y=20, s=\"6.6x avg. speedup\")\n",
    "#plt.text(x=18, y=5, s=\"126.8x avg. speedup\")\n",
    "plt.show()"
   ]
  },
  {
   "cell_type": "code",
   "execution_count": null,
   "metadata": {},
   "outputs": [],
   "source": [
    "# algorithm speedup\n",
    "avg_poly_time_cpu = cpu_poly.mean()['real_time']\n",
    "avg_poly_time_gpu = gpu_poly.mean()['real_time']\n",
    "speedup = metrics.query(\"aggregate_name=='mean' & type=='range' & k<=20 & tag!='cpu-single'\")[['k', 'real_time', 'tag']].reset_index(drop=True)\n",
    "# speedup['cpu_speedup'] = avg_poly_time_cpu / speedup['real_time']\n",
    "# speedup['gpu_speedup'] = avg_poly_time_gpu / speedup['real_time']\n",
    "speedup.loc[speedup['tag'] == 'cpu-multi', ['speedup']] = avg_poly_time_cpu / speedup['real_time']\n",
    "speedup.loc[speedup['tag'] == 'gpu', ['speedup']] = avg_poly_time_gpu / speedup['real_time']\n",
    "speedup\n"
   ]
  },
  {
   "cell_type": "code",
   "execution_count": null,
   "metadata": {},
   "outputs": [],
   "source": [
    "plt.figure(figsize=(10, 6))\n",
    "sns.lineplot(data=speedup, x='k', y='speedup', hue='tag', style='tag', errorbar=('ci', 99), err_style='bars', markers=True)\n",
    "plt.xlabel('k')\n",
    "plt.ylabel('Speed-up factor')\n",
    "plt.title('Range-based comparison speed-up by k and device')\n",
    "plt.legend(title='Device', bbox_to_anchor=(1.01, 1), loc='upper left')\n",
    "plt.tight_layout()\n",
    "plt.grid()\n",
    "plt.show()"
   ]
  },
  {
   "cell_type": "code",
   "execution_count": null,
   "metadata": {},
   "outputs": [],
   "source": [
    "plt.figure(figsize=(10, 6))\n",
    "sns.lineplot(data=benchmarks.query(\"type=='range'\"), x='k', y='real_time', hue='tag', style='tag', errorbar=('ci', 99), err_style='bars')\n",
    "plt.xlabel('k')\n",
    "plt.ylabel('real time (s)')\n",
    "plt.yscale('log')\n",
    "plt.title('Comparison time by device and threading (CI 99%)')\n",
    "plt.legend(title='Device-Threading', bbox_to_anchor=(1.01, 1), loc='upper left')\n",
    "plt.tight_layout()\n",
    "plt.grid()\n",
    "plt.show()"
   ]
  },
  {
   "cell_type": "code",
   "execution_count": null,
   "metadata": {},
   "outputs": [],
   "source": [
    "plt.figure(figsize=(10, 6))\n",
    "sns.lineplot(data=benchmarks.query(\"type=='range'\"), x='k', y='real_time', hue='tag', style='tag', errorbar=('ci', 99), err_style='bars')\n",
    "plt.xlabel('k')\n",
    "plt.ylabel('real time (s)')\n",
    "plt.title('Comparison time by device and threading (CI 99%)')\n",
    "plt.legend(title='Device-Threading', bbox_to_anchor=(1.01, 1), loc='upper left')\n",
    "plt.tight_layout()\n",
    "plt.grid()\n",
    "#plt.text(x=22, y=16, s=\"6.6x avg. speedup\")\n",
    "#plt.text(x=80, y=10, s=\"126.8x avg. speedup\")\n",
    "plt.show()"
   ]
  },
  {
   "cell_type": "code",
   "execution_count": null,
   "metadata": {},
   "outputs": [],
   "source": [
    "plt.figure(figsize=(10, 6))\n",
    "sns.lineplot(data=benchmarks.query('(type==\"poly\" | type==\"range\")'), x='k', y='real_time', hue='tag', style='tag', errorbar=('ci', 99), err_style='bars')\n",
    "plt.xlabel('k')\n",
    "plt.ylabel('real time (s)')\n",
    "plt.title('Comparison time by device and type of algorithm (CI 99%)')\n",
    "plt.legend(title='Device-type', bbox_to_anchor=(1.01, 1), loc='upper left')\n",
    "plt.tight_layout()\n",
    "plt.grid()\n",
    "plt.show()"
   ]
  },
  {
   "cell_type": "code",
   "execution_count": null,
   "metadata": {},
   "outputs": [],
   "source": [
    "plt.figure(figsize=(10, 6))\n",
    "sns.regplot(data=benchmarks.query('type==\"range\" & device==\"cpu\" & threading==\"single\" & k <= 20'), x='k', y='real_time', label='cpu-single', marker='o', ci=99)\n",
    "sns.regplot(data=benchmarks.query('type==\"range\" & device==\"cpu\" & threading==\"multi\" & k <= 20'), x='k', y='real_time', label='cpu-multi', line_kws={\"ls\":\"-.\"}, marker='d', ci=99)\n",
    "sns.regplot(data=benchmarks.query('type==\"range\" & device==\"gpu\" & k <= 20'), x='k', y='real_time', label='gpu', marker='x', line_kws={\"ls\":\"--\"}, ci=99)\n",
    "#sns.regplot(x=pd.to_numeric(df_multi_gpu['k']), y=pd.to_numeric(df_multi_gpu['real_time']), label='gpu-multi', line_kws={\"ls\":\":\"}, marker='v', ci=99)\n",
    "plt.xlabel('k')\n",
    "plt.ylabel('real time (s)')\n",
    "plt.title('Comparison time by device and threading (linear regression)')\n",
    "plt.legend(title='Device-Threading', bbox_to_anchor=(1.01, 1), loc='upper left')\n",
    "plt.tight_layout()\n",
    "plt.grid()\n",
    "plt.show()"
   ]
  },
  {
   "cell_type": "code",
   "execution_count": null,
   "metadata": {},
   "outputs": [],
   "source": [
    "plt.figure(figsize=(10, 6))\n",
    "sns.regplot(data=benchmarks.query('type==\"range\" & device==\"cpu\" & threading==\"single\" & k <= 20'), x='k', y='real_time', label='cpu-single', marker='o', x_estimator=np.mean, order=1, ci=99)\n",
    "sns.regplot(data=benchmarks.query('type==\"range\" & device==\"cpu\" & threading==\"multi\" & k <= 20'), x='k', y='real_time', label='cpu-multi', line_kws={\"ls\":\"-.\"}, marker='d', x_estimator=np.mean, order=1, ci=99)\n",
    "sns.regplot(data=benchmarks.query('type==\"range\" & device==\"gpu\" & k <= 20'), x='k', y='real_time', label='gpu', marker='x', line_kws={\"ls\":\"--\"}, x_estimator=np.mean, order=1, ci=99)\n",
    "#sns.regplot(x=pd.to_numeric(df_multi_gpu['k']), y=pd.to_numeric(df_multi_gpu['real_time']), label='gpu-multi', line_kws={\"ls\":\":\"}, marker='v', ci=99)\n",
    "plt.xlabel('k')\n",
    "plt.ylabel('real time (s)')\n",
    "plt.title('Comparison time by device and threading (linear regression)')\n",
    "plt.legend(title='Device-Threading', bbox_to_anchor=(1.01, 1), loc='upper left')\n",
    "plt.tight_layout()\n",
    "plt.grid()\n",
    "plt.show()"
   ]
  },
  {
   "cell_type": "code",
   "execution_count": null,
   "metadata": {},
   "outputs": [],
   "source": [
    "plt.figure(figsize=(10, 6))\n",
    "sns.lineplot(data=benchmarks.query('type==\"poly\"'), x='k', y='real_time', hue='device', style='device', errorbar=('ci', 99), err_style='bars')\n",
    "#sns.histplot(data=benchmarks.query('type==\"poly\"'), x='repetition_index', y='real_time', hue='device')\n",
    "#sns.barplot(data=benchmarks.query('type==\"poly\"'), y='device', x='real_time', errorbar=('ci', 99))\n",
    "#sns.boxplot(data=benchmarks.query('type==\"poly\"'), y='device', x='real_time')\n",
    "plt.xlabel('k')\n",
    "plt.ylabel('real time (s)')\n",
    "plt.title('Comparison time by univariate polynomial (CI 99%)')\n",
    "plt.legend(title='Device', bbox_to_anchor=(1.01, 1), loc='upper left')\n",
    "plt.tight_layout()\n",
    "plt.grid()\n",
    "plt.text(x=42, y=40, s=\"9.1x avg. speedup\")\n",
    "plt.show()"
   ]
  },
  {
   "cell_type": "code",
   "execution_count": null,
   "metadata": {},
   "outputs": [],
   "source": [
    "plt.figure(figsize=(10, 6))\n",
    "#sns.lineplot(data=benchmarks.query('type==\"poly\"'), x='k', y='real_time', hue='device', style='device', errorbar=('ci', 99), err_style='bars')\n",
    "#sns.histplot(data=benchmarks.query('type==\"poly\"'), x='repetition_index', y='real_time', hue='device')\n",
    "ax = sns.barplot(data=benchmarks.query('type==\"poly\"'), y='device', x='real_time', errorbar=('ci', 99))\n",
    "plt.bar_label(ax.containers[0], fmt='%.2f', padding=5)\n",
    "#sns.boxplot(data=benchmarks.query('type==\"poly\"'), y='device', x='real_time')\n",
    "plt.xlabel('real time (s)')\n",
    "plt.ylabel('device')\n",
    "plt.xlim(0, 300)\n",
    "plt.title('Comparison time by univariate polynomial (CI 99%)')\n",
    "#plt.legend(title='Device', bbox_to_anchor=(1.01, 1), loc='upper left')\n",
    "plt.tight_layout()\n",
    "plt.grid(axis='x')\n",
    "plt.text(x=52, y=1.01, s=\"(9.1x avg. speedup)\")\n",
    "plt.show()"
   ]
  },
  {
   "cell_type": "code",
   "execution_count": null,
   "metadata": {},
   "outputs": [],
   "source": [
    "cpu_enc = metrics.query(\"aggregate_name=='mean' & type=='encoding' & device=='cpu'\")['real_time'].reset_index(drop=True)[0]\n",
    "cpu_encr = metrics.query(\"aggregate_name=='mean' & type=='encryption' & device=='cpu'\")['real_time'].reset_index(drop=True)[0]\n",
    "cpu_dec = metrics.query(\"aggregate_name=='mean' & type=='decoding' & device=='cpu'\")['real_time'].reset_index(drop=True)[0]\n",
    "cpu_decr = metrics.query(\"aggregate_name=='mean' & type=='decryption' & device=='cpu'\")['real_time'].reset_index(drop=True)[0]\n",
    "gpu_enc = metrics.query(\"aggregate_name=='mean' & type=='encoding' & device=='gpu'\")['real_time'].reset_index(drop=True)[0]\n",
    "gpu_encr = metrics.query(\"aggregate_name=='mean' & type=='encryption' & device=='gpu'\")['real_time'].reset_index(drop=True)[0]\n",
    "gpu_dec = metrics.query(\"aggregate_name=='mean' & type=='decoding' & device=='gpu'\")['real_time'].reset_index(drop=True)[0]\n",
    "gpu_decr = metrics.query(\"aggregate_name=='mean' & type=='decryption' & device=='gpu'\")['real_time'].reset_index(drop=True)[0]\n",
    "\n",
    "speedup_enc = cpu_enc / gpu_enc\n",
    "speedup_encr = cpu_encr / gpu_encr\n",
    "speedup_dec = cpu_dec / gpu_dec\n",
    "speedup_decr = cpu_decr / gpu_decr\n",
    "print(speedup_enc, speedup_encr, speedup_dec, speedup_decr)"
   ]
  },
  {
   "cell_type": "code",
   "execution_count": null,
   "metadata": {},
   "outputs": [],
   "source": [
    "data=benchmarks.query('type!=\"range\" & type!=\"poly\"')\n",
    "\n",
    "plt.figure(figsize=(10, 6))\n",
    "ax = sns.barplot(data=data, y='type', x=data['real_time'] * 1000, hue='device', errorbar=('ci', 99))\n",
    "plt.xlabel('real time (ms)')\n",
    "plt.bar_label(ax.containers[0], fmt='%.3f', padding=10)\n",
    "plt.bar_label(ax.containers[1], fmt='%.3f', padding=3)\n",
    "#plt.xlim(0, 0.05)\n",
    "plt.ylabel('device')\n",
    "plt.title('Basic operation time cost by device (CI 99%)')\n",
    "plt.legend(title='Device', bbox_to_anchor=(1.01, 1), loc='upper left')\n",
    "plt.tight_layout()\n",
    "plt.grid(axis='x')\n",
    "plt.text(x=6, y=0, s=\"(7.9x avg. speedup)\")\n",
    "plt.text(x=6, y=1, s=\"(2.9x avg. speedup)\")\n",
    "plt.text(x=32, y=2.2, s=\"(83.5x avg. speedup)\")\n",
    "plt.text(x=16, y=3.2, s=\"(53.3x avg. speedup)\")\n",
    "plt.show()"
   ]
  },
  {
   "cell_type": "code",
   "execution_count": null,
   "metadata": {},
   "outputs": [],
   "source": [
    "print(cpu_poly['real_time'].mean() / cpu_multi_range.query(\"k==20.0\")['real_time'])\n",
    "print(gpu_poly['real_time'].mean() / gpu_single_range.query(\"k==20.0\")['real_time'])"
   ]
  },
  {
   "cell_type": "code",
   "execution_count": null,
   "metadata": {},
   "outputs": [],
   "source": [
    "print(cpu_poly['real_time'].mean() / cpu_multi_range.query(\"k==100.0\")['real_time'])\n",
    "print(gpu_poly['real_time'].mean() / gpu_single_range.query(\"k==100.0\")['real_time'])"
   ]
  },
  {
   "cell_type": "code",
   "execution_count": null,
   "metadata": {},
   "outputs": [],
   "source": [
    "plt.figure(figsize=(10, 6))\n",
    "sns.lineplot(data=benchmarks.query('(type==\"poly\" | type==\"range\") & k <= 20'), x='k', y='real_time', hue='tag', style='tag', errorbar=('ci', 99), err_style='bars')\n",
    "plt.xlabel('k')\n",
    "plt.ylabel('real time (s)')\n",
    "plt.title('Range comparison vs polynomial comparison (CI 99%)')\n",
    "plt.legend(title='Device-type', bbox_to_anchor=(1.01, 1), loc='upper left')\n",
    "plt.tight_layout()\n",
    "plt.grid()\n",
    "plt.show()"
   ]
  },
  {
   "cell_type": "code",
   "execution_count": null,
   "metadata": {},
   "outputs": [],
   "source": [
    "plt.figure(figsize=(15, 9))\n",
    "sns.barplot(data=benchmarks.query('(type==\"poly\" | type==\"range\")'), x='k', y='real_time', hue='tag', errorbar=('ci', 99))\n",
    "plt.xlabel('k')\n",
    "plt.ylabel('real time (s)')\n",
    "plt.title('Range comparison vs polynomial comparison (CI 99%)')\n",
    "plt.legend(title='Device', bbox_to_anchor=(1.01, 1), loc='upper left')\n",
    "plt.tight_layout()\n",
    "plt.grid(axis='y')\n",
    "plt.show()"
   ]
  },
  {
   "cell_type": "code",
   "execution_count": null,
   "metadata": {},
   "outputs": [],
   "source": [
    "plt.figure(figsize=(10, 6))\n",
    "sns.lineplot(data=benchmarks.query('(type==\"poly\" | type==\"range\") & k <= 20'), x='k', y='real_time', hue='tag', style='tag', errorbar=('ci', 99), err_style='bars')\n",
    "plt.xlabel('k')\n",
    "plt.ylabel('real time (s)')\n",
    "plt.yscale('log')\n",
    "plt.title('Range comparison vs polynomial comparison (CI 99%)')\n",
    "plt.legend(title='Device', bbox_to_anchor=(1.01, 1), loc='upper left')\n",
    "plt.tight_layout()\n",
    "plt.grid()\n",
    "plt.show()"
   ]
  }
 ],
 "metadata": {
  "kernelspec": {
   "display_name": "venv",
   "language": "python",
   "name": "python3"
  },
  "language_info": {
   "codemirror_mode": {
    "name": "ipython",
    "version": 3
   },
   "file_extension": ".py",
   "mimetype": "text/x-python",
   "name": "python",
   "nbconvert_exporter": "python",
   "pygments_lexer": "ipython3",
   "version": "3.10.12"
  }
 },
 "nbformat": 4,
 "nbformat_minor": 2
}
