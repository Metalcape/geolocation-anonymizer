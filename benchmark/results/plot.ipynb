{
 "cells": [
  {
   "cell_type": "code",
   "execution_count": 1,
   "metadata": {},
   "outputs": [],
   "source": [
    "import matplotlib.pyplot as plt\n",
    "import seaborn as sns\n",
    "import pandas as pd\n",
    "import numpy as np"
   ]
  },
  {
   "cell_type": "code",
   "execution_count": 2,
   "metadata": {},
   "outputs": [],
   "source": [
    "benchmarks = pd.read_csv('benchmarks.csv')\n",
    "metrics = pd.read_csv('metrics.csv')"
   ]
  },
  {
   "cell_type": "code",
   "execution_count": null,
   "metadata": {},
   "outputs": [],
   "source": [
    "plt.figure(figsize=(10, 6))\n",
    "sns.scatterplot(data=benchmarks.query(\"type=='range'\"), x='k', y='real_time', hue='tag', style='tag', alpha=0.8)\n",
    "#sns.lineplot(data=benchmarks, x='k', y='real_time', hue='type', style='type', err_style=None)\n",
    "plt.xlabel('k')\n",
    "plt.ylabel('real time (s)')\n",
    "plt.yscale('log')\n",
    "plt.title('Comparison time by device and threading')\n",
    "plt.legend(title='Device-Threading', bbox_to_anchor=(1.01, 1), loc='upper left')\n",
    "plt.tight_layout()\n",
    "plt.show()"
   ]
  },
  {
   "cell_type": "code",
   "execution_count": null,
   "metadata": {},
   "outputs": [],
   "source": [
    "plt.figure(figsize=(10, 6))\n",
    "sns.scatterplot(data=benchmarks.query(\"type=='range' & k <= 20\"), x='k', y='real_time', hue='tag', style='tag', alpha=0.8)\n",
    "#sns.lineplot(data=benchmarks, x='k', y='real_time', hue='type', style='type', err_style=None)\n",
    "plt.xlabel('k')\n",
    "plt.ylabel('real time (s)')\n",
    "plt.yscale('log')\n",
    "plt.title('Comparison time by device and threading')\n",
    "plt.legend(title='Device-Threading', bbox_to_anchor=(1.01, 1), loc='upper left')\n",
    "plt.tight_layout()\n",
    "plt.show()"
   ]
  },
  {
   "cell_type": "code",
   "execution_count": null,
   "metadata": {},
   "outputs": [],
   "source": [
    "plt.figure(figsize=(10, 6))\n",
    "sns.scatterplot(data=benchmarks.query(\"type=='range'\"), x='k', y='real_time', hue='tag', style='tag', alpha=0.8)\n",
    "#sns.lineplot(data=benchmarks, x='k', y='real_time', hue='type', style='type', err_style=None)\n",
    "plt.xlabel('k')\n",
    "plt.ylabel('real time (s)')\n",
    "plt.title('Comparison time by device and threading')\n",
    "plt.legend(title='Device-Threading', bbox_to_anchor=(1.01, 1), loc='upper left')\n",
    "plt.tight_layout()\n",
    "plt.show()"
   ]
  },
  {
   "cell_type": "code",
   "execution_count": null,
   "metadata": {},
   "outputs": [],
   "source": [
    "plt.figure(figsize=(10, 6))\n",
    "sns.scatterplot(data=benchmarks.query(\"type=='range' & k <= 20\"), x='k', y='real_time', hue='tag', style='tag', alpha=0.8)\n",
    "#sns.lineplot(data=benchmarks, x='k', y='real_time', hue='type', style='type', err_style=None)\n",
    "plt.xlabel('k')\n",
    "plt.ylabel('real time (s)')\n",
    "plt.title('Comparison time by device and threading')\n",
    "plt.legend(title='Device-Threading', bbox_to_anchor=(1.01, 1), loc='upper left')\n",
    "plt.tight_layout()\n",
    "plt.show()"
   ]
  },
  {
   "cell_type": "code",
   "execution_count": null,
   "metadata": {},
   "outputs": [],
   "source": [
    "plt.figure(figsize=(10, 6))\n",
    "sns.lineplot(data=benchmarks.query(\"type=='range' & k <= 20\"), x='k', y='real_time', hue='tag', style='tag', errorbar=('ci', 99), err_style='bars')\n",
    "plt.xlabel('k')\n",
    "plt.ylabel('real time (s)')\n",
    "plt.yscale('log')\n",
    "plt.title('Comparison time by device and threading (CI 99%)')\n",
    "plt.legend(title='Device-Threading', bbox_to_anchor=(1.01, 1), loc='upper left')\n",
    "plt.tight_layout()\n",
    "plt.show()"
   ]
  },
  {
   "cell_type": "code",
   "execution_count": null,
   "metadata": {},
   "outputs": [],
   "source": [
    "plt.figure(figsize=(10, 6))\n",
    "sns.lineplot(data=benchmarks.query(\"type=='range' & k <= 20\"), x='k', y='real_time', hue='tag', style='tag', errorbar=('ci', 99), err_style='bars')\n",
    "plt.xlabel('k')\n",
    "plt.ylabel('real time (s)')\n",
    "plt.title('Comparison time by device and threading (CI 99%)')\n",
    "plt.legend(title='Device-Threading', bbox_to_anchor=(1.01, 1), loc='upper left')\n",
    "plt.tight_layout()\n",
    "plt.show()"
   ]
  },
  {
   "cell_type": "code",
   "execution_count": null,
   "metadata": {},
   "outputs": [],
   "source": [
    "plt.figure(figsize=(10, 6))\n",
    "sns.lineplot(data=benchmarks.query(\"type=='range'\"), x='k', y='real_time', hue='tag', style='tag', errorbar=('ci', 99), err_style='bars')\n",
    "plt.xlabel('k')\n",
    "plt.ylabel('real time (s)')\n",
    "plt.yscale('log')\n",
    "plt.title('Comparison time by device and threading (CI 99%)')\n",
    "plt.legend(title='Device-Threading', bbox_to_anchor=(1.01, 1), loc='upper left')\n",
    "plt.tight_layout()\n",
    "plt.show()"
   ]
  },
  {
   "cell_type": "code",
   "execution_count": null,
   "metadata": {},
   "outputs": [],
   "source": [
    "plt.figure(figsize=(10, 6))\n",
    "sns.lineplot(data=benchmarks.query(\"type=='range'\"), x='k', y='real_time', hue='tag', style='tag', errorbar=('ci', 99), err_style='bars')\n",
    "plt.xlabel('k')\n",
    "plt.ylabel('real time (s)')\n",
    "plt.title('Comparison time by device and threading (CI 99%)')\n",
    "plt.legend(title='Device-Threading', bbox_to_anchor=(1.01, 1), loc='upper left')\n",
    "plt.tight_layout()\n",
    "plt.show()"
   ]
  },
  {
   "cell_type": "code",
   "execution_count": null,
   "metadata": {},
   "outputs": [],
   "source": [
    "plt.figure(figsize=(10, 6))\n",
    "sns.regplot(data=benchmarks.query('type==\"range\" & device==\"cpu\" & threading==\"single\" & k <= 20'), x='k', y='real_time', label='cpu-single', marker='o', ci=99)\n",
    "sns.regplot(data=benchmarks.query('type==\"range\" & device==\"cpu\" & threading==\"multi\" & k <= 20'), x='k', y='real_time', label='cpu-multi', line_kws={\"ls\":\"-.\"}, marker='d', ci=99)\n",
    "sns.regplot(data=benchmarks.query('type==\"range\" & device==\"gpu\" & k <= 20'), x='k', y='real_time', label='gpu', marker='x', line_kws={\"ls\":\"--\"}, ci=99)\n",
    "#sns.regplot(x=pd.to_numeric(df_multi_gpu['k']), y=pd.to_numeric(df_multi_gpu['real_time']), label='gpu-multi', line_kws={\"ls\":\":\"}, marker='v', ci=99)\n",
    "plt.xlabel('k')\n",
    "plt.ylabel('real time (s)')\n",
    "plt.title('Comparison time by device and threading (linear regression)')\n",
    "plt.legend(title='Device-Threading', bbox_to_anchor=(1.01, 1), loc='upper left')\n",
    "plt.tight_layout()\n",
    "plt.show()"
   ]
  },
  {
   "cell_type": "code",
   "execution_count": null,
   "metadata": {},
   "outputs": [],
   "source": [
    "plt.figure(figsize=(10, 6))\n",
    "sns.regplot(data=benchmarks.query('type==\"range\" & device==\"cpu\" & threading==\"single\" & k <= 20'), x='k', y='real_time', label='cpu-single', marker='o', x_estimator=np.mean, order=1, ci=99)\n",
    "sns.regplot(data=benchmarks.query('type==\"range\" & device==\"cpu\" & threading==\"multi\" & k <= 20'), x='k', y='real_time', label='cpu-multi', line_kws={\"ls\":\"-.\"}, marker='d', x_estimator=np.mean, order=1, ci=99)\n",
    "sns.regplot(data=benchmarks.query('type==\"range\" & device==\"gpu\" & k <= 20'), x='k', y='real_time', label='gpu', marker='x', line_kws={\"ls\":\"--\"}, x_estimator=np.mean, order=1, ci=99)\n",
    "#sns.regplot(x=pd.to_numeric(df_multi_gpu['k']), y=pd.to_numeric(df_multi_gpu['real_time']), label='gpu-multi', line_kws={\"ls\":\":\"}, marker='v', ci=99)\n",
    "plt.xlabel('k')\n",
    "plt.ylabel('real time (s)')\n",
    "plt.title('Comparison time by device and threading (linear regression)')\n",
    "plt.legend(title='Device-Threading', bbox_to_anchor=(1.01, 1), loc='upper left')\n",
    "plt.tight_layout()\n",
    "plt.show()"
   ]
  },
  {
   "cell_type": "code",
   "execution_count": null,
   "metadata": {},
   "outputs": [],
   "source": [
    "plt.figure(figsize=(10, 6))\n",
    "sns.lineplot(data=benchmarks.query('type==\"poly\"'), x='k', y='real_time', hue='device', style='device', errorbar=('ci', 99), err_style='bars')\n",
    "#sns.histplot(data=benchmarks.query('type==\"poly\"'), x='repetition_index', y='real_time', hue='device')\n",
    "#sns.barplot(data=benchmarks.query('type==\"poly\"'), y='device', x='real_time', errorbar=('ci', 99))\n",
    "#sns.boxplot(data=benchmarks.query('type==\"poly\"'), y='device', x='real_time')\n",
    "plt.xlabel('k')\n",
    "plt.ylabel('real time (s)')\n",
    "plt.title('Comparison time by univariate polynomial (CI 99%)')\n",
    "plt.legend(title='Device', bbox_to_anchor=(1.01, 1), loc='upper left')\n",
    "plt.tight_layout()\n",
    "plt.show()"
   ]
  },
  {
   "cell_type": "code",
   "execution_count": null,
   "metadata": {},
   "outputs": [],
   "source": [
    "plt.figure(figsize=(10, 6))\n",
    "#sns.lineplot(data=benchmarks.query('type==\"poly\"'), x='k', y='real_time', hue='device', style='device', errorbar=('ci', 99), err_style='bars')\n",
    "#sns.histplot(data=benchmarks.query('type==\"poly\"'), x='repetition_index', y='real_time', hue='device')\n",
    "sns.barplot(data=benchmarks.query('type==\"poly\"'), y='device', x='real_time', errorbar=('ci', 99))\n",
    "#sns.boxplot(data=benchmarks.query('type==\"poly\"'), y='device', x='real_time')\n",
    "plt.xlabel('real time (s)')\n",
    "plt.ylabel('device')\n",
    "plt.title('Comparison time by univariate polynomial (CI 99%)')\n",
    "#plt.legend(title='Device', bbox_to_anchor=(1.01, 1), loc='upper left')\n",
    "plt.tight_layout()\n",
    "plt.show()"
   ]
  },
  {
   "cell_type": "code",
   "execution_count": null,
   "metadata": {},
   "outputs": [],
   "source": [
    "plt.figure(figsize=(10, 6))\n",
    "sns.barplot(data=benchmarks.query('type!=\"range\" & type!=\"poly\"'), y='type', x='real_time', hue='device', errorbar=('ci', 99))\n",
    "plt.xlabel('real time (s)')\n",
    "plt.xscale('log')\n",
    "plt.ylabel('device')\n",
    "plt.title('Basic operation time cost by device (CI 99%)')\n",
    "plt.legend(title='Device', bbox_to_anchor=(1.01, 1), loc='upper left')\n",
    "plt.tight_layout()\n",
    "plt.show()"
   ]
  },
  {
   "cell_type": "code",
   "execution_count": null,
   "metadata": {},
   "outputs": [],
   "source": [
    "plt.figure(figsize=(10, 6))\n",
    "sns.lineplot(data=benchmarks.query('(type==\"poly\" | type==\"range\") & k <= 20'), x='k', y='real_time', hue='tag', style='tag', errorbar=('ci', 99), err_style='bars')\n",
    "plt.xlabel('k')\n",
    "plt.ylabel('real time (s)')\n",
    "plt.title('Range comparison vs polynomial comparison (CI 99%)')\n",
    "plt.legend(title='Device', bbox_to_anchor=(1.01, 1), loc='upper left')\n",
    "plt.tight_layout()\n",
    "plt.show()"
   ]
  },
  {
   "cell_type": "code",
   "execution_count": null,
   "metadata": {},
   "outputs": [],
   "source": [
    "plt.figure(figsize=(10, 6))\n",
    "sns.lineplot(data=benchmarks.query('(type==\"poly\" | type==\"range\") & k <= 20'), x='k', y='real_time', hue='tag', style='tag', errorbar=('ci', 99), err_style='bars')\n",
    "plt.xlabel('k')\n",
    "plt.ylabel('real time (s)')\n",
    "plt.yscale('log')\n",
    "plt.title('Range comparison vs polynomial comparison (CI 99%)')\n",
    "plt.legend(title='Device', bbox_to_anchor=(1.01, 1), loc='upper left')\n",
    "plt.tight_layout()\n",
    "plt.show()"
   ]
  }
 ],
 "metadata": {
  "kernelspec": {
   "display_name": "venv",
   "language": "python",
   "name": "python3"
  },
  "language_info": {
   "codemirror_mode": {
    "name": "ipython",
    "version": 3
   },
   "file_extension": ".py",
   "mimetype": "text/x-python",
   "name": "python",
   "nbconvert_exporter": "python",
   "pygments_lexer": "ipython3",
   "version": "3.10.12"
  }
 },
 "nbformat": 4,
 "nbformat_minor": 2
}
