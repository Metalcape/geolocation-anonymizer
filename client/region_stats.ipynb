{
 "cells": [
  {
   "cell_type": "code",
   "execution_count": 59,
   "metadata": {},
   "outputs": [],
   "source": [
    "import pandas as pd\n",
    "import numpy as np\n",
    "import statsmodels.stats.api as sms\n",
    "import matplotlib.pyplot as plt\n",
    "import seaborn as sns"
   ]
  },
  {
   "cell_type": "code",
   "execution_count": null,
   "metadata": {},
   "outputs": [],
   "source": [
    "df = pd.read_csv('region_stats.csv', index_col=0)\n",
    "df['name_en'] = df['name_en'].fillna(df['name'])\n",
    "df.drop('name', axis=1, inplace=True)\n",
    "df = df.rename(columns={'name_en': 'name'})\n",
    "df = df.transpose().reset_index()\n",
    "df.columns = df.iloc[0]\n",
    "df = df.rename(columns={'name': 'level'}).drop(index=0, axis=0)\n",
    "df['level'] = df['level'].str.split('_').str[0].str.split('V').str[1]\n",
    "df['level'] = pd.to_numeric(df['level'])\n",
    "df"
   ]
  },
  {
   "cell_type": "code",
   "execution_count": null,
   "metadata": {},
   "outputs": [],
   "source": [
    "agg = df.transpose().aggregate(['mean', 'median', 'std'])\n",
    "agg = agg.transpose()\n",
    "agg['level'] = df['level']\n",
    "agg"
   ]
  },
  {
   "cell_type": "code",
   "execution_count": 62,
   "metadata": {},
   "outputs": [],
   "source": [
    "countries = df.columns.difference(['level'])\n",
    "melted = pd.melt(df, id_vars=['level'], value_vars=countries, var_name='country', value_name='count')\n",
    "melted_agg = pd.melt(agg, id_vars=['level'], value_vars=['mean', 'median', 'std'], var_name='metric', value_name='value')"
   ]
  },
  {
   "cell_type": "code",
   "execution_count": null,
   "metadata": {},
   "outputs": [],
   "source": [
    "plt.figure(figsize=(10, 6))\n",
    "#sns.scatterplot(data=melted, x='level', y='count')\n",
    "sns.lineplot(data=melted, x='level', y='count', errorbar='ci', err_style='bars')\n",
    "plt.xlabel('Administrative level')\n",
    "plt.ylabel('Count')\n",
    "plt.title('Regions per administrative level (mean and confidence intervals)')\n",
    "#plt.legend(title='Metric', bbox_to_anchor=(1.01, 1), loc='upper left')\n",
    "plt.tight_layout()\n",
    "plt.show()"
   ]
  },
  {
   "cell_type": "code",
   "execution_count": null,
   "metadata": {},
   "outputs": [],
   "source": [
    "plt.figure(figsize=(10, 6))\n",
    "#sns.scatterplot(data=melted, x='level', y='count')\n",
    "sns.barplot(data=melted, x='level', y='count', errorbar='ci')\n",
    "plt.xlabel('Administrative level')\n",
    "plt.ylabel('Count')\n",
    "plt.title('Regions per administrative level (mean and confidence intervals)')\n",
    "#plt.legend(title='Metric', bbox_to_anchor=(1.01, 1), loc='upper left')\n",
    "plt.tight_layout()\n",
    "plt.show()"
   ]
  },
  {
   "cell_type": "code",
   "execution_count": null,
   "metadata": {},
   "outputs": [],
   "source": [
    "plt.figure(figsize=(10, 6))\n",
    "ax = sns.barplot(data=melted_agg.query('metric!=\"std\"'), x='level', y='value', hue='metric')\n",
    "plt.bar_label(ax.containers[0], fmt='%.2f')\n",
    "plt.bar_label(ax.containers[1], fmt='%.2f')\n",
    "plt.xlabel('Administrative level')\n",
    "plt.ylabel('Value')\n",
    "plt.title('Regions per administrative level')\n",
    "plt.legend(title='Metric', bbox_to_anchor=(1.01, 1), loc='upper left')\n",
    "plt.tight_layout()\n",
    "plt.show()"
   ]
  },
  {
   "cell_type": "code",
   "execution_count": null,
   "metadata": {},
   "outputs": [],
   "source": [
    "melted"
   ]
  },
  {
   "cell_type": "code",
   "execution_count": null,
   "metadata": {},
   "outputs": [],
   "source": [
    "level = pd.to_numeric(melted['level'])\n",
    "count = pd.to_numeric(melted['count'])\n",
    "\n",
    "plt.figure(figsize=(10, 6))\n",
    "sns.regplot(x=level, y=count, fit_reg=False, x_estimator=np.mean, label=f'Points', color='.3', marker='o')\n",
    "for order in range(2, 5):  \n",
    "    sns.regplot(x=level, y=count, x_estimator=np.mean, order=order, label=f'Order {order}', scatter=False)\n",
    "plt.xlabel('Administrative level')\n",
    "plt.ylabel('Count')\n",
    "plt.title('Regions per administrative level (polynomial regression)')\n",
    "plt.legend(title='Polynomial order', bbox_to_anchor=(1.01, 1), loc='upper left')\n",
    "plt.tight_layout()\n",
    "plt.show()"
   ]
  }
 ],
 "metadata": {
  "kernelspec": {
   "display_name": "venv",
   "language": "python",
   "name": "python3"
  },
  "language_info": {
   "codemirror_mode": {
    "name": "ipython",
    "version": 3
   },
   "file_extension": ".py",
   "mimetype": "text/x-python",
   "name": "python",
   "nbconvert_exporter": "python",
   "pygments_lexer": "ipython3",
   "version": "3.10.12"
  }
 },
 "nbformat": 4,
 "nbformat_minor": 2
}
