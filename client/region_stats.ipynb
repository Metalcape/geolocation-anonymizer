{
 "cells": [
  {
   "cell_type": "code",
   "execution_count": 11,
   "metadata": {},
   "outputs": [],
   "source": [
    "import pandas as pd\n",
    "import numpy as np\n",
    "import statsmodels.stats.api as sms\n",
    "import matplotlib.pyplot as plt\n",
    "import seaborn as sns"
   ]
  },
  {
   "cell_type": "code",
   "execution_count": null,
   "metadata": {},
   "outputs": [],
   "source": [
    "df = pd.read_csv('region_stats.csv', index_col=0)\n",
    "df['name_en'] = df['name_en'].fillna(df['name'])\n",
    "df.drop('name', axis=1, inplace=True)\n",
    "df = df.rename(columns={'name_en': 'name'})\n",
    "df = df.transpose().reset_index()\n",
    "df.columns = df.iloc[0]\n",
    "df = df.rename(columns={'name': 'level'}).drop(index=0, axis=0)\n",
    "df['level'] = df['level'].str.split('_').str[0].str.split('V').str[1]\n",
    "df['level'] = pd.to_numeric(df['level'])\n",
    "df"
   ]
  },
  {
   "cell_type": "code",
   "execution_count": null,
   "metadata": {},
   "outputs": [],
   "source": [
    "agg = df.transpose().aggregate(['mean', 'median', 'std', 'max'])\n",
    "agg = agg.transpose()\n",
    "agg['level'] = df['level']\n",
    "agg"
   ]
  },
  {
   "cell_type": "code",
   "execution_count": 14,
   "metadata": {},
   "outputs": [],
   "source": [
    "countries = df.columns.difference(['level'])\n",
    "melted = pd.melt(df, id_vars=['level'], value_vars=countries, var_name='country', value_name='count')\n",
    "melted_agg = pd.melt(agg, id_vars=['level'], value_vars=['mean', 'median', 'std', 'max'], var_name='metric', value_name='value')"
   ]
  },
  {
   "cell_type": "code",
   "execution_count": null,
   "metadata": {},
   "outputs": [],
   "source": [
    "plt.figure(figsize=(10, 6))\n",
    "sns.scatterplot(data=melted, x='level', y='count', label='values', color='tab:blue')\n",
    "sns.lineplot(data=melted, x='level', y='count', errorbar=('ci', 95), label='mean (CI 95%)', color='tab:orange')\n",
    "plt.xlabel('Administrative level')\n",
    "plt.ylabel('Value')\n",
    "plt.title('Regions per administrative level')\n",
    "plt.legend(bbox_to_anchor=(1.01, 1), loc='upper left')\n",
    "plt.tight_layout()\n",
    "plt.grid(axis='y')\n",
    "plt.show()"
   ]
  },
  {
   "cell_type": "code",
   "execution_count": null,
   "metadata": {},
   "outputs": [],
   "source": [
    "plt.figure(figsize=(10, 6))\n",
    "sns.lineplot(data=melted, x='level', y='count', errorbar=('ci', 95), err_style='bars')\n",
    "#sns.lineplot(data=melted, x='level', y='count', errorbar=('ci', 99), err_style='bars', alpha=0.3)\n",
    "#sns.lineplot(data=melted_agg.query('metric==\"max\"'), x='level', y='value', errorbar='ci', err_style='bars')\n",
    "plt.xlabel('Administrative level')\n",
    "plt.ylabel('Count')\n",
    "plt.title('Regions per administrative level (mean, confidence interval 95%)')\n",
    "#plt.legend(title='Metric', bbox_to_anchor=(1.01, 1), loc='upper left')\n",
    "plt.tight_layout()\n",
    "plt.grid()\n",
    "plt.show()"
   ]
  },
  {
   "cell_type": "code",
   "execution_count": null,
   "metadata": {},
   "outputs": [],
   "source": [
    "plt.figure(figsize=(10, 6))\n",
    "#sns.scatterplot(data=melted, x='level', y='count')\n",
    "ax = sns.barplot(data=melted, x='level', y='count', errorbar='ci')\n",
    "plt.xlabel('Administrative level')\n",
    "plt.ylabel('Count')\n",
    "plt.title('Regions per administrative level (mean, confidence interval 95%)')\n",
    "#plt.legend(title='Metric', bbox_to_anchor=(1.01, 1), loc='upper left')\n",
    "plt.tight_layout()\n",
    "plt.grid(axis='y')\n",
    "plt.show()"
   ]
  },
  {
   "cell_type": "code",
   "execution_count": null,
   "metadata": {},
   "outputs": [],
   "source": [
    "plt.figure(figsize=(10, 6))\n",
    "ax = sns.barplot(data=melted_agg.query('metric in [\"mean\", \"median\"]'), x='level', y='value', hue='metric')\n",
    "plt.bar_label(ax.containers[0], fmt='%.2f')\n",
    "plt.bar_label(ax.containers[1], fmt='%d')\n",
    "plt.xlabel('Administrative level')\n",
    "plt.ylabel('Value')\n",
    "plt.title('Regions per administrative level')\n",
    "plt.legend(title='Metric', bbox_to_anchor=(1.01, 1), loc='upper left')\n",
    "plt.tight_layout()\n",
    "plt.grid(axis='y')\n",
    "plt.show()"
   ]
  },
  {
   "cell_type": "code",
   "execution_count": null,
   "metadata": {},
   "outputs": [],
   "source": [
    "agg"
   ]
  }
 ],
 "metadata": {
  "kernelspec": {
   "display_name": "venv",
   "language": "python",
   "name": "python3"
  },
  "language_info": {
   "codemirror_mode": {
    "name": "ipython",
    "version": 3
   },
   "file_extension": ".py",
   "mimetype": "text/x-python",
   "name": "python",
   "nbconvert_exporter": "python",
   "pygments_lexer": "ipython3",
   "version": "3.10.12"
  }
 },
 "nbformat": 4,
 "nbformat_minor": 2
}
